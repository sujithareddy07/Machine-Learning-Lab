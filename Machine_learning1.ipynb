{
  "nbformat": 4,
  "nbformat_minor": 0,
  "metadata": {
    "colab": {
      "name": "Machine learning1.ipynb",
      "provenance": [],
      "include_colab_link": true
    },
    "kernelspec": {
      "name": "python3",
      "display_name": "Python 3"
    },
    "language_info": {
      "name": "python"
    }
  },
  "cells": [
    {
      "cell_type": "markdown",
      "metadata": {
        "id": "view-in-github",
        "colab_type": "text"
      },
      "source": [
        "<a href=\"https://colab.research.google.com/github/sujithareddy07/Machine-Learning-Lab/blob/main/Machine_learning1.ipynb\" target=\"_parent\"><img src=\"https://colab.research.google.com/assets/colab-badge.svg\" alt=\"Open In Colab\"/></a>"
      ]
    },
    {
      "cell_type": "code",
      "metadata": {
        "colab": {
          "base_uri": "https://localhost:8080/"
        },
        "id": "ke9xRjBTbcZ1",
        "outputId": "f9c66d71-2503-4962-e1c2-da90e07a52a5"
      },
      "source": [
        "a=23\n",
        "a"
      ],
      "execution_count": null,
      "outputs": [
        {
          "output_type": "execute_result",
          "data": {
            "text/plain": [
              "23"
            ]
          },
          "metadata": {},
          "execution_count": 1
        }
      ]
    },
    {
      "cell_type": "code",
      "metadata": {
        "colab": {
          "base_uri": "https://localhost:8080/"
        },
        "id": "MCTYEZNLbijb",
        "outputId": "c2510a11-36cd-4eab-b7db-4a8b2a207258"
      },
      "source": [
        "a=9.1\n",
        "b=20\n",
        "a+b*2"
      ],
      "execution_count": null,
      "outputs": [
        {
          "output_type": "execute_result",
          "data": {
            "text/plain": [
              "49.1"
            ]
          },
          "metadata": {},
          "execution_count": 3
        }
      ]
    },
    {
      "cell_type": "code",
      "metadata": {
        "colab": {
          "base_uri": "https://localhost:8080/"
        },
        "id": "mi-W7_Ufbwbj",
        "outputId": "2a812f4e-35a2-493d-83b4-4b46a714560c"
      },
      "source": [
        "greeting='hello,my name is '\n",
        "name='damon'\n",
        "age=10\n",
        "print('My name is '+name+'.I am '+str(age)+'years old.')"
      ],
      "execution_count": null,
      "outputs": [
        {
          "output_type": "stream",
          "text": [
            "My name is damon.I am 10years old.\n"
          ],
          "name": "stdout"
        }
      ]
    },
    {
      "cell_type": "code",
      "metadata": {
        "colab": {
          "base_uri": "https://localhost:8080/"
        },
        "id": "mLwo0ijAeH2A",
        "outputId": "20cb4fa4-8034-4399-f186-2d8d3037214b"
      },
      "source": [
        "print('my name is'+name+'. i am now'+str(age)+' years old,\\and in 6 years i\\'llbe'+str(age+6)+'years old')"
      ],
      "execution_count": null,
      "outputs": [
        {
          "output_type": "stream",
          "text": [
            "my name isdamon. i am now10 years old,\u0007nd in 6 years i'llbe16years old\n"
          ],
          "name": "stdout"
        }
      ]
    },
    {
      "cell_type": "code",
      "metadata": {
        "colab": {
          "base_uri": "https://localhost:8080/"
        },
        "id": "Gyo-xJwaeO_8",
        "outputId": "81f8fe50-54d5-4649-d0c7-cab64df79056"
      },
      "source": [
        "numlist=[1,2,3,4]\n",
        "numlist"
      ],
      "execution_count": null,
      "outputs": [
        {
          "output_type": "execute_result",
          "data": {
            "text/plain": [
              "[1, 2, 3, 4]"
            ]
          },
          "metadata": {},
          "execution_count": 8
        }
      ]
    },
    {
      "cell_type": "code",
      "metadata": {
        "colab": {
          "base_uri": "https://localhost:8080/"
        },
        "id": "CPkvB85zfeSm",
        "outputId": "28095eb5-9506-4c9c-a22e-7b12334629d0"
      },
      "source": [
        "import numpy as n\n",
        "print(n.mean(numlist))\n",
        "n.sqrt(9)\n",
        "\n"
      ],
      "execution_count": null,
      "outputs": [
        {
          "output_type": "stream",
          "text": [
            "2.5\n"
          ],
          "name": "stdout"
        },
        {
          "output_type": "execute_result",
          "data": {
            "text/plain": [
              "3.0"
            ]
          },
          "metadata": {},
          "execution_count": 11
        }
      ]
    },
    {
      "cell_type": "code",
      "metadata": {
        "colab": {
          "base_uri": "https://localhost:8080/"
        },
        "id": "ORds3Ho6g-8w",
        "outputId": "5ea40c6b-e2d9-4fbf-d561-562ce5651acf"
      },
      "source": [
        "n.linspace(2,5,6)"
      ],
      "execution_count": null,
      "outputs": [
        {
          "output_type": "execute_result",
          "data": {
            "text/plain": [
              "array([2. , 2.6, 3.2, 3.8, 4.4, 5. ])"
            ]
          },
          "metadata": {},
          "execution_count": 12
        }
      ]
    },
    {
      "cell_type": "code",
      "metadata": {
        "colab": {
          "base_uri": "https://localhost:8080/"
        },
        "id": "LxWaHIEGhiWQ",
        "outputId": "3ab545ad-3af1-4317-a318-68981f7050c5"
      },
      "source": [
        "#create a list of 15 numbers from 4 to 100\n",
        "h=n.linspace(4,100,15)\n",
        "print(h)"
      ],
      "execution_count": null,
      "outputs": [
        {
          "output_type": "stream",
          "text": [
            "[  4.          10.85714286  17.71428571  24.57142857  31.42857143\n",
            "  38.28571429  45.14285714  52.          58.85714286  65.71428571\n",
            "  72.57142857  79.42857143  86.28571429  93.14285714 100.        ]\n"
          ],
          "name": "stdout"
        }
      ]
    },
    {
      "cell_type": "code",
      "metadata": {
        "id": "73sljs46h_AW",
        "colab": {
          "base_uri": "https://localhost:8080/"
        },
        "outputId": "e911b6c7-b5ba-4870-90fa-d7d31943aa1b"
      },
      "source": [
        "#round those numbers to the nearest integer and store in another variable and print\n",
        "s=n.round(h)\n",
        "print(s)"
      ],
      "execution_count": null,
      "outputs": [
        {
          "output_type": "stream",
          "text": [
            "[  4.  11.  18.  25.  31.  38.  45.  52.  59.  66.  73.  79.  86.  93.\n",
            " 100.]\n"
          ],
          "name": "stdout"
        }
      ]
    },
    {
      "cell_type": "code",
      "metadata": {
        "colab": {
          "base_uri": "https://localhost:8080/"
        },
        "id": "pZCjnRPnjoui",
        "outputId": "7d3c0bfa-da71-4396-a522-ee113801cb44"
      },
      "source": [
        "#print the squareroot of the numbers in the list\n",
        "hey=n.sqrt(s)\n",
        "print(hey)"
      ],
      "execution_count": null,
      "outputs": [
        {
          "output_type": "stream",
          "text": [
            "[ 2.          3.31662479  4.24264069  5.          5.56776436  6.164414\n",
            "  6.70820393  7.21110255  7.68114575  8.1240384   8.54400375  8.88819442\n",
            "  9.2736185   9.64365076 10.        ]\n"
          ],
          "name": "stdout"
        }
      ]
    },
    {
      "cell_type": "code",
      "metadata": {
        "colab": {
          "base_uri": "https://localhost:8080/",
          "height": 282
        },
        "id": "tTNhHi_DkH67",
        "outputId": "6d280098-e9c5-49e6-f848-30bbd62477c0"
      },
      "source": [
        "import matplotlib.pyplot as m\n",
        "import numpy as np\n",
        "m.plot(1,5,'o')"
      ],
      "execution_count": null,
      "outputs": [
        {
          "output_type": "execute_result",
          "data": {
            "text/plain": [
              "[<matplotlib.lines.Line2D at 0x7f4c30f6b390>]"
            ]
          },
          "metadata": {},
          "execution_count": 18
        },
        {
          "output_type": "display_data",
          "data": {
            "image/png": "[encoded data removed]",
            "text/plain": [
              "<Figure size 432x288 with 1 Axes>"
            ]
          },
          "metadata": {
            "needs_background": "light"
          }
        }
      ]
    },
    {
      "cell_type": "code",
      "metadata": {
        "colab": {
          "base_uri": "https://localhost:8080/",
          "height": 282
        },
        "id": "BNFvF9AZlJMp",
        "outputId": "e0ab4553-a65b-4e68-e8ea-35c241514122"
      },
      "source": [
        "x=np.arange(-9,10)\n",
        "y=x**2\n",
        "m.plot(x,y,'r')\n",
        "m.plot(x,y/2,'g')"
      ],
      "execution_count": null,
      "outputs": [
        {
          "output_type": "execute_result",
          "data": {
            "text/plain": [
              "[<matplotlib.lines.Line2D at 0x7f4c306d8990>]"
            ]
          },
          "metadata": {},
          "execution_count": 22
        },
        {
          "output_type": "display_data",
          "data": {
            "image/png": "[encoded data removed]",
            "text/plain": [
              "<Figure size 432x288 with 1 Axes>"
            ]
          },
          "metadata": {
            "needs_background": "light"
          }
        }
      ]
    },
    {
      "cell_type": "code",
      "metadata": {
        "colab": {
          "base_uri": "https://localhost:8080/",
          "height": 282
        },
        "id": "Q9NN5G6rmzvf",
        "outputId": "0711fca0-9930-47be-8aef-426d1a9c216d"
      },
      "source": [
        "m.plot([2,8],[-2,2],label='first line')\n",
        "m.legend()"
      ],
      "execution_count": null,
      "outputs": [
        {
          "output_type": "execute_result",
          "data": {
            "text/plain": [
              "<matplotlib.legend.Legend at 0x7f4c305c6f90>"
            ]
          },
          "metadata": {},
          "execution_count": 25
        },
        {
          "output_type": "display_data",
          "data": {
            "image/png": "[encoded data removed]",
            "text/plain": [
              "<Figure size 432x288 with 1 Axes>"
            ]
          },
          "metadata": {
            "needs_background": "light"
          }
        }
      ]
    },
    {
      "cell_type": "code",
      "metadata": {
        "id": "7GX8HpHXnjMn",
        "colab": {
          "base_uri": "https://localhost:8080/"
        },
        "outputId": "4d546e81-0483-4566-8167-9e90666172f1"
      },
      "source": [
        "l=np.random.randint(0,20,[3,5])\n",
        "l"
      ],
      "execution_count": null,
      "outputs": [
        {
          "output_type": "execute_result",
          "data": {
            "text/plain": [
              "array([[18,  8, 11, 13,  1],\n",
              "       [17,  1, 16, 14, 13],\n",
              "       [ 9, 18, 13, 12, 11]])"
            ]
          },
          "metadata": {},
          "execution_count": 26
        }
      ]
    },
    {
      "cell_type": "code",
      "metadata": {
        "id": "4A7yZULkmihX",
        "colab": {
          "base_uri": "https://localhost:8080/",
          "height": 270
        },
        "outputId": "73279c48-1ea6-4b2d-d521-3cd44ee74a20"
      },
      "source": [
        "m.imshow(l)"
      ],
      "execution_count": null,
      "outputs": [
        {
          "output_type": "execute_result",
          "data": {
            "text/plain": [
              "<matplotlib.image.AxesImage at 0x7f4c304b0c50>"
            ]
          },
          "metadata": {},
          "execution_count": 27
        },
        {
          "output_type": "display_data",
          "data": {
            "image/png": "[encoded data removed]",
            "text/plain": [
              "<Figure size 432x288 with 1 Axes>"
            ]
          },
          "metadata": {
            "needs_background": "light"
          }
        }
      ]
    },
    {
      "cell_type": "code",
      "metadata": {
        "colab": {
          "base_uri": "https://localhost:8080/"
        },
        "id": "Sa6TZVQnC3Kj",
        "outputId": "222fd3fa-b5a3-45c6-829f-f29b464b4c93"
      },
      "source": [
        "vec=np.array([2,3,4,5])\n",
        "s=3\n",
        "vec*s"
      ],
      "execution_count": null,
      "outputs": [
        {
          "output_type": "execute_result",
          "data": {
            "text/plain": [
              "array([ 6,  9, 12, 15])"
            ]
          },
          "metadata": {},
          "execution_count": 28
        }
      ]
    },
    {
      "cell_type": "code",
      "metadata": {
        "id": "H681-GsSF0X0"
      },
      "source": [
        "vecd=np.array([1,2])\n",
        "s=2\n",
        "t=3\n",
        "u=4"
      ],
      "execution_count": null,
      "outputs": []
    },
    {
      "cell_type": "code",
      "metadata": {
        "colab": {
          "base_uri": "https://localhost:8080/",
          "height": 265
        },
        "id": "620BE44gGAoB",
        "outputId": "0060e727-9ccd-4d90-f55a-d2658496db40"
      },
      "source": [
        "m.plot([0,vecd[0]],[0,vecd[1]],'r')\n",
        "m.plot([0,s*vecd[0]],[0,s*vecd[1]],'rs-',label='red sq')\n",
        "m.plot([0,t*vecd[0]],[0,t*vecd[1]],'b',label='blue')\n",
        "m.plot([0,u*vecd[0]],[0,u*vecd[1]],'bs-',label='blue sq')\n",
        "\n",
        "m.axis('square')\n",
        "m.xlim([-7,7])\n",
        "m.ylim([-7,7])\n",
        "m.grid()\n",
        "m.legend()\n",
        "m.show()"
      ],
      "execution_count": null,
      "outputs": [
        {
          "output_type": "display_data",
          "data": {
            "image/png": "[encoded data removed]",
            "text/plain": [
              "<Figure size 432x288 with 1 Axes>"
            ]
          },
          "metadata": {
            "needs_background": "light"
          }
        }
      ]
    },
    {
      "cell_type": "code",
      "metadata": {
        "colab": {
          "base_uri": "https://localhost:8080/"
        },
        "id": "8dZilJy_HTFr",
        "outputId": "4cf7d685-9c3e-421a-dc9d-a91475b0dbb5"
      },
      "source": [
        "#create two2D vectors\n",
        "vec1=np.array([1,2])\n",
        "vec2=np.array([3,4])\n",
        "print(vec1)\n",
        "print(vec2)"
      ],
      "execution_count": null,
      "outputs": [
        {
          "output_type": "stream",
          "text": [
            "[1 2]\n",
            "[3 4]\n"
          ],
          "name": "stdout"
        }
      ]
    },
    {
      "cell_type": "code",
      "metadata": {
        "colab": {
          "base_uri": "https://localhost:8080/",
          "height": 265
        },
        "id": "9MneZ35NISXl",
        "outputId": "3f96791a-29dd-4f29-9d80-26427ac9c4b3"
      },
      "source": [
        "#plot the vectors\n",
        "m.plot([0,vec1[0]],[0,vec1[1]],'r',label='redline')\n",
        "m.plot([0,vec2[0]],[0,vec2[1]],'b',label='blueline')\n",
        "m.legend()\n",
        "m.show()"
      ],
      "execution_count": null,
      "outputs": [
        {
          "output_type": "display_data",
          "data": {
            "image/png": "[encoded data removed]",
            "text/plain": [
              "<Figure size 432x288 with 1 Axes>"
            ]
          },
          "metadata": {
            "needs_background": "light"
          }
        }
      ]
    },
    {
      "cell_type": "code",
      "metadata": {
        "colab": {
          "base_uri": "https://localhost:8080/",
          "height": 265
        },
        "id": "WIYEh7PEJsAS",
        "outputId": "518cdb6a-3d68-4cf8-9c74-a7aa4218f693"
      },
      "source": [
        "#plot v1+v2,v1-v2,v1*4+v2/2\n",
        "v3=vec1+vec2\n",
        "m.plot([0,v3[0]],[0,v3[1]],'r',label='redline')\n",
        "v4=vec1-vec2\n",
        "m.plot([0,v4[0]],[0,v4[1]],'b',label='blueline')\n",
        "v5=vec1*4+vec2/2\n",
        "m.plot([0,v5[0]],[0,v5[1]],'b--',label='bluedashline')\n",
        "m.legend()\n",
        "m.show()"
      ],
      "execution_count": null,
      "outputs": [
        {
          "output_type": "display_data",
          "data": {
            "image/png": "[encoded data removed]",
            "text/plain": [
              "<Figure size 432x288 with 1 Axes>"
            ]
          },
          "metadata": {
            "needs_background": "light"
          }
        }
      ]
    },
    {
      "cell_type": "code",
      "metadata": {
        "colab": {
          "base_uri": "https://localhost:8080/"
        },
        "id": "04M24rCzMz9Y",
        "outputId": "3d9067dd-b1d0-4645-a5be-557dd4fdabae"
      },
      "source": [
        "v1=np.array([3,4,5])\n",
        "v2=np.array([5,6,7])\n",
        "np.dot(v1,v2)"
      ],
      "execution_count": null,
      "outputs": [
        {
          "output_type": "execute_result",
          "data": {
            "text/plain": [
              "74"
            ]
          },
          "metadata": {},
          "execution_count": 51
        }
      ]
    },
    {
      "cell_type": "code",
      "metadata": {
        "colab": {
          "base_uri": "https://localhost:8080/"
        },
        "id": "DQQ4IR_uMg4O",
        "outputId": "2692ee38-0b3d-49d6-f976-d74dbacaf30f"
      },
      "source": [
        "#come up with 3 2d vectors,two of them are orthogonal but not the third\n",
        "v1=np.array([4,2])\n",
        "v2=np.array([-2,4])\n",
        "print(np.dot(v1,v2))\n",
        "#v1,v2 are orthogonal\n",
        "v3=np.array([2,3])\n",
        "print(np.dot(v1,v3))"
      ],
      "execution_count": null,
      "outputs": [
        {
          "output_type": "stream",
          "text": [
            "0\n",
            "14\n"
          ],
          "name": "stdout"
        }
      ]
    },
    {
      "cell_type": "code",
      "metadata": {
        "colab": {
          "base_uri": "https://localhost:8080/",
          "height": 265
        },
        "id": "WlOsVmTNPR5Y",
        "outputId": "bc473926-c40e-42d6-a651-30792da4b454"
      },
      "source": [
        "#plot all 3 vectors and the axis is square\n",
        "m.plot([0,v1[0]],[1,v1[1]],'r',label='redline')\n",
        "m.plot([0,v2[0]],[1,v2[1]],'b',label='blueline')\n",
        "m.plot([0,v3[0]],[1,v3[1]],'r--',label='reddashline')\n",
        "m.axis('square')\n",
        "m.legend()\n",
        "m.grid()\n",
        "m.show()\n",
        "\n"
      ],
      "execution_count": null,
      "outputs": [
        {
          "output_type": "display_data",
          "data": {
            "image/png": "[encoded data removed]",
            "text/plain": [
              "<Figure size 432x288 with 1 Axes>"
            ]
          },
          "metadata": {
            "needs_background": "light"
          }
        }
      ]
    },
    {
      "cell_type": "code",
      "metadata": {
        "colab": {
          "base_uri": "https://localhost:8080/"
        },
        "id": "GDU918vNQKGs",
        "outputId": "234bae0b-39f7-4667-ba9b-4db90723f468"
      },
      "source": [
        "np.eye(5)"
      ],
      "execution_count": null,
      "outputs": [
        {
          "output_type": "execute_result",
          "data": {
            "text/plain": [
              "array([[1., 0., 0., 0., 0.],\n",
              "       [0., 1., 0., 0., 0.],\n",
              "       [0., 0., 1., 0., 0.],\n",
              "       [0., 0., 0., 1., 0.],\n",
              "       [0., 0., 0., 0., 1.]])"
            ]
          },
          "metadata": {},
          "execution_count": 63
        }
      ]
    },
    {
      "cell_type": "code",
      "metadata": {
        "colab": {
          "base_uri": "https://localhost:8080/"
        },
        "id": "v0rxUl0_Qv_R",
        "outputId": "5d0042b7-7692-4e7d-be99-6624fd30232b"
      },
      "source": [
        "np.zeros([3,4])"
      ],
      "execution_count": null,
      "outputs": [
        {
          "output_type": "execute_result",
          "data": {
            "text/plain": [
              "array([[0., 0., 0., 0.],\n",
              "       [0., 0., 0., 0.],\n",
              "       [0., 0., 0., 0.]])"
            ]
          },
          "metadata": {},
          "execution_count": 64
        }
      ]
    },
    {
      "cell_type": "code",
      "metadata": {
        "colab": {
          "base_uri": "https://localhost:8080/"
        },
        "id": "In9rMwwIQ1tQ",
        "outputId": "3e5a92ba-7a94-4fcd-f9c3-b766d6d4a7f0"
      },
      "source": [
        "np.full([3,4],5)"
      ],
      "execution_count": null,
      "outputs": [
        {
          "output_type": "execute_result",
          "data": {
            "text/plain": [
              "array([[5, 5, 5, 5],\n",
              "       [5, 5, 5, 5],\n",
              "       [5, 5, 5, 5]])"
            ]
          },
          "metadata": {},
          "execution_count": 65
        }
      ]
    },
    {
      "cell_type": "code",
      "metadata": {
        "colab": {
          "base_uri": "https://localhost:8080/"
        },
        "id": "ggL6_gkHRAFa",
        "outputId": "4ab7ca2c-3b85-42de-8902-a102694f4a66"
      },
      "source": [
        "#create 3 matrices 2x2 3x2\n",
        "l=np.random.randint(0,5,[2,2])\n",
        "print(l)\n",
        "o=np.random.randint(0,8,[3,2])\n",
        "print(o)"
      ],
      "execution_count": null,
      "outputs": [
        {
          "output_type": "stream",
          "text": [
            "[[4 3]\n",
            " [1 3]]\n",
            "[[4 4]\n",
            " [7 1]\n",
            " [0 4]]\n"
          ],
          "name": "stdout"
        }
      ]
    },
    {
      "cell_type": "code",
      "metadata": {
        "colab": {
          "base_uri": "https://localhost:8080/"
        },
        "id": "qeVPANTyR8On",
        "outputId": "228c73af-5f84-4283-a2e0-5356566a4958"
      },
      "source": [
        "v1=np.array([2,3,4],ndmin=2)\n",
        "v1.T"
      ],
      "execution_count": null,
      "outputs": [
        {
          "output_type": "execute_result",
          "data": {
            "text/plain": [
              "array([[2],\n",
              "       [3],\n",
              "       [4]])"
            ]
          },
          "metadata": {},
          "execution_count": 71
        }
      ]
    },
    {
      "cell_type": "code",
      "metadata": {
        "colab": {
          "base_uri": "https://localhost:8080/"
        },
        "id": "JgtOK0_BVO-p",
        "outputId": "152cc42c-aadd-4edb-9e4e-adc2323a2863"
      },
      "source": [
        "m1=np.random.randint(0,8,(4,5))\n",
        "m2=np.random.randint(0,8,(5,5))\n",
        "print(np.matmul(m1,m2))"
      ],
      "execution_count": null,
      "outputs": [
        {
          "output_type": "stream",
          "text": [
            "[[58 10 73 39 64]\n",
            " [60 11 67 23 51]\n",
            " [45 11 64 15 63]\n",
            " [35  7 56 21 55]]\n"
          ],
          "name": "stdout"
        }
      ]
    },
    {
      "cell_type": "code",
      "metadata": {
        "colab": {
          "base_uri": "https://localhost:8080/"
        },
        "id": "50u8UbdgWLvl",
        "outputId": "04a46372-090a-4244-b453-7369260ea144"
      },
      "source": [
        "A=np.round(np.random.randn(4,4))\n",
        "Ainv=np.round(np.linalg.inv(A))\n",
        "print(A)\n",
        "print(Ainv)"
      ],
      "execution_count": null,
      "outputs": [
        {
          "output_type": "stream",
          "text": [
            "[[ 1. -1. -0.  0.]\n",
            " [ 0.  1.  0. -1.]\n",
            " [ 0. -1.  1.  1.]\n",
            " [-1.  0. -0.  0.]]\n",
            "[[ 0.  0.  0. -1.]\n",
            " [-1.  0.  0. -1.]\n",
            " [ 0.  1.  1.  0.]\n",
            " [-1. -1. -0. -1.]]\n"
          ],
          "name": "stdout"
        }
      ]
    },
    {
      "cell_type": "code",
      "metadata": {
        "colab": {
          "base_uri": "https://localhost:8080/",
          "height": 220
        },
        "id": "5lpzUIlEXF8N",
        "outputId": "2b4e6747-8dd3-4cde-c80d-4e33feff2a66"
      },
      "source": [
        "fig,ax=m.subplots(1,2,figsize=(6,5))\n",
        "ax[0].imshow(A)\n",
        "ax[0].set_title('A')\n",
        "ax[1].imshow(Ainv)\n",
        "ax[0].set_title('A$^{-1}$')\n",
        "m.show()"
      ],
      "execution_count": null,
      "outputs": [
        {
          "output_type": "display_data",
          "data": {
            "image/png": "[encoded data removed]",
            "text/plain": [
              "<Figure size 432x360 with 2 Axes>"
            ]
          },
          "metadata": {
            "needs_background": "light"
          }
        }
      ]
    }
  ]
}